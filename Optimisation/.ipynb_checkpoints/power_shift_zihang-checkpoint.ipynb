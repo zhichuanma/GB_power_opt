{
 "cells": [
  {
   "cell_type": "code",
   "execution_count": 1,
   "id": "aab5c439",
   "metadata": {},
   "outputs": [],
   "source": [
    "import numpy\n",
    "\n",
    "def power_shift(T, delta_t, prices, max_discharge, max_charge, power_profile, charge_to_congestion, max_energy, min_energy, \n",
    "                energy_profile):\n",
    "    # charge: negative  discharge: positive \n",
    "    \n",
    "    # price differences\n",
    "    price_diff = [[0]*T for i in range(T)]\n",
    "    for i in range(T):\n",
    "        for j in range(i+1, T):\n",
    "            price_diff[i][j] = -(prices[j] - prices[i])\n",
    "            price_diff[j][i] = -price_diff[i][j]\n",
    "    \n",
    "    # due to the maximum discharge power\n",
    "    power_to_discharge = [[0]*T for i in range(T)]\n",
    "    for i in range(T):\n",
    "        for j in range(T):\n",
    "            power_to_discharge[i][j] = max_discharge - power_profile[j]\n",
    "    \n",
    "    # due to the maximum charge power\n",
    "    power_to_charge = [[0]*T for i in range(T)]\n",
    "    for i in range(T):\n",
    "        for j in range(T):\n",
    "            power_to_charge[i][j] = power_profile[i] - max_charge\n",
    "            \n",
    "    # due to load congestion by charging\n",
    "    power_to_congestion = [[0]*T for i in range(T)]\n",
    "    for i in range(T):\n",
    "        for j in range(T):\n",
    "            power_to_congestion[i][j] = charge_to_congestion[i]\n",
    "    \n",
    "    # due to energy limit\n",
    "    power_to_energy = [[0]*T for i in range(T)]\n",
    "    for i in range(T):\n",
    "        for j in range(T):\n",
    "            if i==j:\n",
    "                power_to_energy[i][j] = 0\n",
    "            elif i<j:\n",
    "                arr = numpy.array(energy_profile[i:j])\n",
    "                power_to_energy[i][j] = min(max_energy-arr)/delta_t\n",
    "            else:\n",
    "                arr = numpy.array(energy_profile[j:i])\n",
    "                power_to_energy[i][j] = min(arr-min_energy)/delta_t\n",
    "                \n",
    "    # feasible power shift and cost reduction\n",
    "    adjust_power = [[0]*T for i in range(T)]\n",
    "    cost_reduction = [[0]*T for i in range(T)]\n",
    "    for i in range(T):\n",
    "        for j in range(T):\n",
    "            adjust_power[i][j] = min(power_to_discharge[i][j],power_to_charge[i][j],power_to_congestion[i][j],power_to_energy[i][j])\n",
    "            cost_reduction[i][j] = adjust_power[i][j]*price_diff[i][j]\n",
    "    \n",
    "    # select the optimal power shift\n",
    "    min_val = float('inf')\n",
    "    min_row = -1\n",
    "    min_col = -1\n",
    "    for row in range(len(cost_reduction)):\n",
    "        for col in range(len(cost_reduction[row])):\n",
    "            if cost_reduction[row][col] < min_val:\n",
    "                min_val = cost_reduction[row][col]\n",
    "                min_row = row\n",
    "                min_col = col \n",
    "    \n",
    "    # update power and energy profiles\n",
    "    if min_row == min_col:\n",
    "        return 0\n",
    "    else:\n",
    "        power_profile_new = power_profile\n",
    "        power_profile_new[min_row] -= adjust_power[min_row][min_col]\n",
    "        power_profile_new[min_col] += adjust_power[min_row][min_col]\n",
    "        energy_profile_new = energy_profile\n",
    "        if min_row<min_col:\n",
    "            for k in range(min_row,min_col):\n",
    "                energy_profile_new[k] += adjust_power[min_row][min_col]*delta_t\n",
    "        else:\n",
    "            for k in range(min_col,min_row):\n",
    "                energy_profile_new[k] -= adjust_power[min_row][min_col]*delta_t\n",
    "        return min_row, min_col, adjust_power[min_row][min_col], power_profile_new, energy_profile_new\n"
   ]
  },
  {
   "cell_type": "code",
   "execution_count": 2,
   "id": "6deee213",
   "metadata": {},
   "outputs": [
    {
     "name": "stdout",
     "output_type": "stream",
     "text": [
      "(0, 3, 2, [-4, 1, -2, 3], [4, 3, 5, 2])\n"
     ]
    }
   ],
   "source": [
    "T = 4\n",
    "delta_t = 1\n",
    "prices = [1,2,3,4]\n",
    "max_discharge = 5\n",
    "max_charge = -5\n",
    "power_profile = [-2,1,-2,1]\n",
    "charge_to_congestion = [2,2,2,2]\n",
    "max_energy = 5\n",
    "min_energy = 0\n",
    "energy_profile = [2,1,3,2]\n",
    "\n",
    "print(power_shift(T, delta_t, prices, max_discharge, max_charge, power_profile, charge_to_congestion, max_energy, min_energy, energy_profile))"
   ]
  },
  {
   "cell_type": "code",
   "execution_count": null,
   "id": "93f0c7bb",
   "metadata": {},
   "outputs": [],
   "source": []
  }
 ],
 "metadata": {
  "kernelspec": {
   "display_name": "Python 3",
   "language": "python",
   "name": "python3"
  },
  "language_info": {
   "codemirror_mode": {
    "name": "ipython",
    "version": 3
   },
   "file_extension": ".py",
   "mimetype": "text/x-python",
   "name": "python",
   "nbconvert_exporter": "python",
   "pygments_lexer": "ipython3",
   "version": "3.7.13"
  }
 },
 "nbformat": 4,
 "nbformat_minor": 5
}
