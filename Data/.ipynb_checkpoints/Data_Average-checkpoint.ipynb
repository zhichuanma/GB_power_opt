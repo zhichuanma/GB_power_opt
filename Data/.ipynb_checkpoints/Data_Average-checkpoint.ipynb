{
 "cells": [
  {
   "cell_type": "code",
   "execution_count": 1,
   "id": "c2e494a1",
   "metadata": {},
   "outputs": [],
   "source": [
    "from __future__ import division\n",
    "import pandas as pd\n",
    "import numpy as np\n",
    "import random\n",
    "import time\n",
    "import re\n",
    "import matplotlib.pyplot as plt\n",
    "from mpl_toolkits.mplot3d import Axes3D\n",
    "from matplotlib import cm\n",
    "from matplotlib.ticker import LinearLocator, FormatStrFormatter\n",
    "import matplotlib"
   ]
  },
  {
   "cell_type": "markdown",
   "id": "414a1b8b",
   "metadata": {},
   "source": [
    "# National GB Demand - 2022"
   ]
  },
  {
   "cell_type": "code",
   "execution_count": 2,
   "id": "2a37dd3e",
   "metadata": {},
   "outputs": [],
   "source": [
    "Demand_Data = pd.read_csv('demanddata.csv').values[:,2]"
   ]
  },
  {
   "cell_type": "code",
   "execution_count": 3,
   "id": "8d7f52dc",
   "metadata": {},
   "outputs": [
    {
     "name": "stdout",
     "output_type": "stream",
     "text": [
      "32952.120547945204\n",
      "19958.43287671233\n"
     ]
    }
   ],
   "source": [
    "Demand_Data_Day_Hour = np.reshape(Demand_Data, [365,48])\n",
    "Demand_Data_Daily_Mean = np.mean(Demand_Data_Day_Hour, axis=0)\n",
    "#print(Demand_Data_Daily_Mean)\n",
    "print(max(Demand_Data_Daily_Mean))\n",
    "print(min(Demand_Data_Daily_Mean))"
   ]
  },
  {
   "cell_type": "code",
   "execution_count": 6,
   "id": "31c7b8a7",
   "metadata": {},
   "outputs": [
    {
     "data": {
      "image/png": "[encoded data removed]",
      "text/plain": [
       "<Figure size 288x144 with 1 Axes>"
      ]
     },
     "metadata": {
      "needs_background": "light"
     },
     "output_type": "display_data"
    }
   ],
   "source": [
    "plt.figure(figsize=(4, 2))\n",
    "x = range(48)\n",
    "text1 = 13\n",
    "text2 = 13\n",
    "font1 = {'family': 'Times New Roman', 'weight': 'normal', 'size': text2}\n",
    "\n",
    "plt.plot(x, Demand_Data_Daily_Mean, linewidth=2, color='r', label='System Demand')\n",
    "plt.tick_params(labelsize = text1)\n",
    "plt.xlim(0,47)\n",
    "plt.xticks(np.linspace(0,47,11), fontname = \"Times New Roman\")\n",
    "plt.xticks([0,5,11,17,23,29,35,41,47],[1,6,12,18,24,30,36,42,48])\n",
    "plt.yticks(np.linspace(20000,35000,6), fontname = \"Times New Roman\")\n",
    "plt.yticks([20000,23000,26000,29000,32000,35000],[20,23,26,29,32,35])\n",
    "plt.xlabel('Time (30min)', font1)\n",
    "plt.ylabel(\"Demand (GW)\", font1)\n",
    "legend = plt.legend(loc='upper left', prop=font1, framealpha=1, ncol=1)\n",
    "\n",
    "plt.savefig('GBDem.jpg', dpi=1800, bbox_inches='tight')\n",
    "plt.show()"
   ]
  },
  {
   "cell_type": "markdown",
   "id": "8472bc85",
   "metadata": {},
   "source": [
    "# PV Generation"
   ]
  },
  {
   "cell_type": "code",
   "execution_count": 7,
   "id": "de52070f",
   "metadata": {},
   "outputs": [],
   "source": [
    "PV_Data = pd.read_csv('PV_Live Historical Results.csv').values[:,-1]"
   ]
  },
  {
   "cell_type": "code",
   "execution_count": 8,
   "id": "b57b9566",
   "metadata": {},
   "outputs": [
    {
     "name": "stdout",
     "output_type": "stream",
     "text": [
      "4912.397499129045\n",
      "0.0\n"
     ]
    }
   ],
   "source": [
    "PV_Data_Day_Hour = np.reshape(PV_Data, [366,48])\n",
    "PV_Data_Daily_Mean = np.mean(PV_Data_Day_Hour, axis=0) * 13861.203\n",
    "print(max(PV_Data_Daily_Mean))\n",
    "print(min(PV_Data_Daily_Mean))"
   ]
  },
  {
   "cell_type": "markdown",
   "id": "1a83269f",
   "metadata": {},
   "source": [
    "# Wind Data"
   ]
  },
  {
   "cell_type": "code",
   "execution_count": 9,
   "id": "125269ea",
   "metadata": {},
   "outputs": [],
   "source": [
    "WT_Data = pd.read_csv('GenerationbyFuelType_2022.csv').values[:,7]"
   ]
  },
  {
   "cell_type": "code",
   "execution_count": 10,
   "id": "299d9611",
   "metadata": {},
   "outputs": [
    {
     "name": "stdout",
     "output_type": "stream",
     "text": [
      "7364.016438356164\n",
      "6703.4767123287675\n"
     ]
    }
   ],
   "source": [
    "WT_Data_Day_Hour = np.reshape(WT_Data, [365,48])\n",
    "WT_Data_Daily_Mean = np.mean(WT_Data_Day_Hour, axis=0)\n",
    "print(max(WT_Data_Daily_Mean))\n",
    "print(min(WT_Data_Daily_Mean))"
   ]
  },
  {
   "cell_type": "code",
   "execution_count": 11,
   "id": "3344b03b",
   "metadata": {},
   "outputs": [
    {
     "data": {
      "image/png": "[encoded data removed]",
      "text/plain": [
       "<Figure size 288x144 with 1 Axes>"
      ]
     },
     "metadata": {
      "needs_background": "light"
     },
     "output_type": "display_data"
    }
   ],
   "source": [
    "plt.figure(figsize=(4, 2))\n",
    "x = range(48)\n",
    "text1 = 13\n",
    "text2 = 13\n",
    "font1 = {'family': 'Times New Roman', 'weight': 'normal', 'size': text2}\n",
    "\n",
    "plt.plot(x, PV_Data_Daily_Mean, linewidth=2, color='b', label='Solar')\n",
    "plt.plot(x, WT_Data_Daily_Mean, linewidth=2, color='g', label='Wind')\n",
    "plt.tick_params(labelsize = text1)\n",
    "plt.xlim(0,47)\n",
    "plt.xticks(np.linspace(0,47,11), fontname = \"Times New Roman\")\n",
    "plt.xticks([0,5,11,17,23,29,35,41,47],[1,6,12,18,24,30,36,42,48])\n",
    "plt.yticks(np.linspace(0,8000,5), fontname = \"Times New Roman\")\n",
    "plt.yticks([0,2000,4000,6000,8000],[0,2,4,6,8])\n",
    "plt.xlabel('Time (30min)', font1)\n",
    "plt.ylabel(\"Power (GW)\", font1)\n",
    "legend = plt.legend(loc='lower right', prop=font1, framealpha=1, ncol=1, bbox_to_anchor=(1.02, 0.25))\n",
    "\n",
    "plt.savefig('GBSolarWind.jpg', dpi=1800, bbox_inches='tight')\n",
    "plt.show()"
   ]
  },
  {
   "cell_type": "markdown",
   "id": "7cc9df6e",
   "metadata": {},
   "source": [
    "# Export Data to Excel"
   ]
  },
  {
   "cell_type": "code",
   "execution_count": 137,
   "id": "6e34ffd6",
   "metadata": {},
   "outputs": [],
   "source": [
    "national_data = np.array([Demand_Data_Daily_Mean,WT_Data_Daily_Mean,PV_Data_Daily_Mean])\n",
    "excel_national_data = pd.DataFrame(national_data)"
   ]
  },
  {
   "cell_type": "code",
   "execution_count": 138,
   "id": "4be06817",
   "metadata": {},
   "outputs": [],
   "source": [
    "with pd.ExcelWriter(\"national_data.xlsx\") as writer:\n",
    "    excel_national_data.to_excel(writer, sheet_name=\"dem_res\", index=False)"
   ]
  },
  {
   "cell_type": "code",
   "execution_count": null,
   "id": "ddc8ed31",
   "metadata": {},
   "outputs": [],
   "source": []
  }
 ],
 "metadata": {
  "kernelspec": {
   "display_name": "Python 3",
   "language": "python",
   "name": "python3"
  },
  "language_info": {
   "codemirror_mode": {
    "name": "ipython",
    "version": 3
   },
   "file_extension": ".py",
   "mimetype": "text/x-python",
   "name": "python",
   "nbconvert_exporter": "python",
   "pygments_lexer": "ipython3",
   "version": "3.7.13"
  }
 },
 "nbformat": 4,
 "nbformat_minor": 5
}
